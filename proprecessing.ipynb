{
  "nbformat": 4,
  "nbformat_minor": 0,
  "metadata": {
    "colab": {
      "name": "proprecessing",
      "provenance": [],
      "collapsed_sections": [],
      "authorship_tag": "ABX9TyMGv3XuSLzCaTDYWT+6qwpM",
      "include_colab_link": true
    },
    "kernelspec": {
      "name": "python3",
      "display_name": "Python 3"
    },
    "language_info": {
      "name": "python"
    }
  },
  "cells": [
    {
      "cell_type": "markdown",
      "metadata": {
        "id": "view-in-github",
        "colab_type": "text"
      },
      "source": [
        "<a href=\"https://colab.research.google.com/github/ByeonChanHO/COVID-19_Automatic_Diagnosis_System_by_CT/blob/main/proprecessing.ipynb\" target=\"_parent\"><img src=\"https://colab.research.google.com/assets/colab-badge.svg\" alt=\"Open In Colab\"/></a>"
      ]
    },
    {
      "cell_type": "code",
      "metadata": {
        "colab": {
          "base_uri": "https://localhost:8080/"
        },
        "id": "OBBjJ0nka2Ai",
        "outputId": "33f39572-4186-415a-b915-e016a9c568a0"
      },
      "source": [
        "!pip install nibabel tqdm scikit-image\n",
        "#리눅스 사용 시 !을 쓴다.\n",
        "!pip install git+https://github.com/JoHof/lungmask"
      ],
      "execution_count": null,
      "outputs": [
        {
          "output_type": "stream",
          "text": [
            "Requirement already satisfied: nibabel in /usr/local/lib/python3.7/dist-packages (3.0.2)\n",
            "Requirement already satisfied: tqdm in /usr/local/lib/python3.7/dist-packages (4.41.1)\n",
            "Requirement already satisfied: scikit-image in /usr/local/lib/python3.7/dist-packages (0.16.2)\n",
            "Requirement already satisfied: numpy>=1.12 in /usr/local/lib/python3.7/dist-packages (from nibabel) (1.20.3)\n",
            "Requirement already satisfied: pillow>=4.3.0 in /usr/local/lib/python3.7/dist-packages (from scikit-image) (7.1.2)\n",
            "Requirement already satisfied: scipy>=0.19.0 in /usr/local/lib/python3.7/dist-packages (from scikit-image) (1.4.1)\n",
            "Requirement already satisfied: networkx>=2.0 in /usr/local/lib/python3.7/dist-packages (from scikit-image) (2.5.1)\n",
            "Requirement already satisfied: matplotlib!=3.0.0,>=2.0.0 in /usr/local/lib/python3.7/dist-packages (from scikit-image) (3.2.2)\n",
            "Requirement already satisfied: imageio>=2.3.0 in /usr/local/lib/python3.7/dist-packages (from scikit-image) (2.4.1)\n",
            "Requirement already satisfied: PyWavelets>=0.4.0 in /usr/local/lib/python3.7/dist-packages (from scikit-image) (1.1.1)\n",
            "Requirement already satisfied: decorator<5,>=4.3 in /usr/local/lib/python3.7/dist-packages (from networkx>=2.0->scikit-image) (4.4.2)\n",
            "Requirement already satisfied: python-dateutil>=2.1 in /usr/local/lib/python3.7/dist-packages (from matplotlib!=3.0.0,>=2.0.0->scikit-image) (2.8.1)\n",
            "Requirement already satisfied: kiwisolver>=1.0.1 in /usr/local/lib/python3.7/dist-packages (from matplotlib!=3.0.0,>=2.0.0->scikit-image) (1.3.1)\n",
            "Requirement already satisfied: cycler>=0.10 in /usr/local/lib/python3.7/dist-packages (from matplotlib!=3.0.0,>=2.0.0->scikit-image) (0.10.0)\n",
            "Requirement already satisfied: pyparsing!=2.0.4,!=2.1.2,!=2.1.6,>=2.0.1 in /usr/local/lib/python3.7/dist-packages (from matplotlib!=3.0.0,>=2.0.0->scikit-image) (2.4.7)\n",
            "Requirement already satisfied: six>=1.5 in /usr/local/lib/python3.7/dist-packages (from python-dateutil>=2.1->matplotlib!=3.0.0,>=2.0.0->scikit-image) (1.15.0)\n",
            "Collecting git+https://github.com/JoHof/lungmask\n",
            "  Cloning https://github.com/JoHof/lungmask to /tmp/pip-req-build-hw_e83mu\n",
            "  Running command git clone -q https://github.com/JoHof/lungmask /tmp/pip-req-build-hw_e83mu\n",
            "Requirement already satisfied (use --upgrade to upgrade): lungmask==0.2.8 from git+https://github.com/JoHof/lungmask in /usr/local/lib/python3.7/dist-packages\n",
            "Requirement already satisfied: pydicom in /usr/local/lib/python3.7/dist-packages (from lungmask==0.2.8) (2.1.2)\n",
            "Requirement already satisfied: numpy in /usr/local/lib/python3.7/dist-packages (from lungmask==0.2.8) (1.20.3)\n",
            "Requirement already satisfied: torch in /usr/local/lib/python3.7/dist-packages (from lungmask==0.2.8) (1.8.1+cu101)\n",
            "Requirement already satisfied: scipy in /usr/local/lib/python3.7/dist-packages (from lungmask==0.2.8) (1.4.1)\n",
            "Requirement already satisfied: SimpleITK in /usr/local/lib/python3.7/dist-packages (from lungmask==0.2.8) (2.0.2)\n",
            "Requirement already satisfied: tqdm in /usr/local/lib/python3.7/dist-packages (from lungmask==0.2.8) (4.41.1)\n",
            "Requirement already satisfied: scikit-image in /usr/local/lib/python3.7/dist-packages (from lungmask==0.2.8) (0.16.2)\n",
            "Requirement already satisfied: fill_voids in /usr/local/lib/python3.7/dist-packages (from lungmask==0.2.8) (2.0.1)\n",
            "Requirement already satisfied: typing-extensions in /usr/local/lib/python3.7/dist-packages (from torch->lungmask==0.2.8) (3.7.4.3)\n",
            "Requirement already satisfied: pillow>=4.3.0 in /usr/local/lib/python3.7/dist-packages (from scikit-image->lungmask==0.2.8) (7.1.2)\n",
            "Requirement already satisfied: PyWavelets>=0.4.0 in /usr/local/lib/python3.7/dist-packages (from scikit-image->lungmask==0.2.8) (1.1.1)\n",
            "Requirement already satisfied: imageio>=2.3.0 in /usr/local/lib/python3.7/dist-packages (from scikit-image->lungmask==0.2.8) (2.4.1)\n",
            "Requirement already satisfied: matplotlib!=3.0.0,>=2.0.0 in /usr/local/lib/python3.7/dist-packages (from scikit-image->lungmask==0.2.8) (3.2.2)\n",
            "Requirement already satisfied: networkx>=2.0 in /usr/local/lib/python3.7/dist-packages (from scikit-image->lungmask==0.2.8) (2.5.1)\n",
            "Requirement already satisfied: fastremap in /usr/local/lib/python3.7/dist-packages (from fill_voids->lungmask==0.2.8) (1.12.1)\n",
            "Requirement already satisfied: cycler>=0.10 in /usr/local/lib/python3.7/dist-packages (from matplotlib!=3.0.0,>=2.0.0->scikit-image->lungmask==0.2.8) (0.10.0)\n",
            "Requirement already satisfied: python-dateutil>=2.1 in /usr/local/lib/python3.7/dist-packages (from matplotlib!=3.0.0,>=2.0.0->scikit-image->lungmask==0.2.8) (2.8.1)\n",
            "Requirement already satisfied: pyparsing!=2.0.4,!=2.1.2,!=2.1.6,>=2.0.1 in /usr/local/lib/python3.7/dist-packages (from matplotlib!=3.0.0,>=2.0.0->scikit-image->lungmask==0.2.8) (2.4.7)\n",
            "Requirement already satisfied: kiwisolver>=1.0.1 in /usr/local/lib/python3.7/dist-packages (from matplotlib!=3.0.0,>=2.0.0->scikit-image->lungmask==0.2.8) (1.3.1)\n",
            "Requirement already satisfied: decorator<5,>=4.3 in /usr/local/lib/python3.7/dist-packages (from networkx>=2.0->scikit-image->lungmask==0.2.8) (4.4.2)\n",
            "Requirement already satisfied: six in /usr/local/lib/python3.7/dist-packages (from cycler>=0.10->matplotlib!=3.0.0,>=2.0.0->scikit-image->lungmask==0.2.8) (1.15.0)\n",
            "Building wheels for collected packages: lungmask\n",
            "  Building wheel for lungmask (setup.py) ... \u001b[?25l\u001b[?25hdone\n",
            "  Created wheel for lungmask: filename=lungmask-0.2.8-cp37-none-any.whl size=17169 sha256=daf825a68f30ce280910e0547a0ee8a9aa12cc540a9a42e81d13f3cb2ed8607f\n",
            "  Stored in directory: /tmp/pip-ephem-wheel-cache-bk380c4v/wheels/59/2e/c0/1365551c1853d11aef03baf7ed94cdac831342c7f8a03e45ca\n",
            "Successfully built lungmask\n"
          ],
          "name": "stdout"
        }
      ]
    },
    {
      "cell_type": "code",
      "metadata": {
        "colab": {
          "base_uri": "https://localhost:8080/"
        },
        "id": "5-YJbHotxGmZ",
        "outputId": "98d59b3a-64aa-4e7c-a4fc-ac669907848f"
      },
      "source": [
        "!pip uninstall numpy"
      ],
      "execution_count": null,
      "outputs": [
        {
          "output_type": "stream",
          "text": [
            "\u001b[33mWARNING: Skipping numpy as it is not installed.\u001b[0m\n"
          ],
          "name": "stdout"
        }
      ]
    },
    {
      "cell_type": "code",
      "metadata": {
        "colab": {
          "base_uri": "https://localhost:8080/"
        },
        "id": "nvEKlryRxJ2V",
        "outputId": "1b9568cd-f6e4-492e-899a-c35c1862e9f3"
      },
      "source": [
        "!pip install numpy\n"
      ],
      "execution_count": null,
      "outputs": [
        {
          "output_type": "stream",
          "text": [
            "Requirement already satisfied: numpy in /usr/local/lib/python3.7/dist-packages (1.20.3)\n"
          ],
          "name": "stdout"
        }
      ]
    },
    {
      "cell_type": "code",
      "metadata": {
        "id": "umGP4V0-hyxK",
        "colab": {
          "base_uri": "https://localhost:8080/",
          "height": 409
        },
        "outputId": "173bb9bc-efd4-41f4-a3f3-07ccb8a19619"
      },
      "source": [
        "import os\n",
        "import sys\n",
        "import random\n",
        "import math\n",
        "import numpy as np\n",
        "import nibabel as nib\n",
        "import matplotlib.pyplot as plt\n",
        "\n",
        "from tqdm import tqdm\n",
        "from skimage.metrics import peak_signal_noise_ratio, structural_similarity\n",
        "from scipy.ndimage import zoom\n",
        "\n",
        "import torch\n",
        "from torch import nn, optim\n",
        "from torch.utils.data import DataLoader\n",
        "from torchvision.transforms import ToTensor\n",
        "from torch.autograd import Variable\n",
        "\n",
        "\n",
        "import SimpleITK as sitk\n",
        "import lungmask\n",
        "from lungmask import mask"
      ],
      "execution_count": null,
      "outputs": [
        {
          "output_type": "error",
          "ename": "ValueError",
          "evalue": "ignored",
          "traceback": [
            "\u001b[0;31m---------------------------------------------------------------------------\u001b[0m",
            "\u001b[0;31mValueError\u001b[0m                                Traceback (most recent call last)",
            "\u001b[0;32m<ipython-input-58-d281242c68c9>\u001b[0m in \u001b[0;36m<module>\u001b[0;34m()\u001b[0m\n\u001b[1;32m     20\u001b[0m \u001b[0;32mimport\u001b[0m \u001b[0mSimpleITK\u001b[0m \u001b[0;32mas\u001b[0m \u001b[0msitk\u001b[0m\u001b[0;34m\u001b[0m\u001b[0;34m\u001b[0m\u001b[0m\n\u001b[1;32m     21\u001b[0m \u001b[0;32mimport\u001b[0m \u001b[0mlungmask\u001b[0m\u001b[0;34m\u001b[0m\u001b[0;34m\u001b[0m\u001b[0m\n\u001b[0;32m---> 22\u001b[0;31m \u001b[0;32mfrom\u001b[0m \u001b[0mlungmask\u001b[0m \u001b[0;32mimport\u001b[0m \u001b[0mmask\u001b[0m\u001b[0;34m\u001b[0m\u001b[0;34m\u001b[0m\u001b[0m\n\u001b[0m",
            "\u001b[0;32m/usr/local/lib/python3.7/dist-packages/lungmask/mask.py\u001b[0m in \u001b[0;36m<module>\u001b[0;34m()\u001b[0m\n\u001b[1;32m      1\u001b[0m \u001b[0;32mimport\u001b[0m \u001b[0mnumpy\u001b[0m \u001b[0;32mas\u001b[0m \u001b[0mnp\u001b[0m\u001b[0;34m\u001b[0m\u001b[0;34m\u001b[0m\u001b[0m\n\u001b[1;32m      2\u001b[0m \u001b[0;32mimport\u001b[0m \u001b[0mtorch\u001b[0m\u001b[0;34m\u001b[0m\u001b[0;34m\u001b[0m\u001b[0m\n\u001b[0;32m----> 3\u001b[0;31m \u001b[0;32mfrom\u001b[0m \u001b[0mlungmask\u001b[0m \u001b[0;32mimport\u001b[0m \u001b[0mutils\u001b[0m\u001b[0;34m\u001b[0m\u001b[0;34m\u001b[0m\u001b[0m\n\u001b[0m\u001b[1;32m      4\u001b[0m \u001b[0;32mimport\u001b[0m \u001b[0mSimpleITK\u001b[0m \u001b[0;32mas\u001b[0m \u001b[0msitk\u001b[0m\u001b[0;34m\u001b[0m\u001b[0;34m\u001b[0m\u001b[0m\n\u001b[1;32m      5\u001b[0m \u001b[0;32mfrom\u001b[0m \u001b[0;34m.\u001b[0m\u001b[0mresunet\u001b[0m \u001b[0;32mimport\u001b[0m \u001b[0mUNet\u001b[0m\u001b[0;34m\u001b[0m\u001b[0;34m\u001b[0m\u001b[0m\n",
            "\u001b[0;32m/usr/local/lib/python3.7/dist-packages/lungmask/utils.py\u001b[0m in \u001b[0;36m<module>\u001b[0;34m()\u001b[0m\n\u001b[1;32m      9\u001b[0m \u001b[0;32mimport\u001b[0m \u001b[0mlogging\u001b[0m\u001b[0;34m\u001b[0m\u001b[0;34m\u001b[0m\u001b[0m\n\u001b[1;32m     10\u001b[0m \u001b[0;32mfrom\u001b[0m \u001b[0mtqdm\u001b[0m \u001b[0;32mimport\u001b[0m \u001b[0mtqdm\u001b[0m\u001b[0;34m\u001b[0m\u001b[0;34m\u001b[0m\u001b[0m\n\u001b[0;32m---> 11\u001b[0;31m \u001b[0;32mimport\u001b[0m \u001b[0mfill_voids\u001b[0m\u001b[0;34m\u001b[0m\u001b[0;34m\u001b[0m\u001b[0m\n\u001b[0m\u001b[1;32m     12\u001b[0m \u001b[0;32mimport\u001b[0m \u001b[0mskimage\u001b[0m\u001b[0;34m.\u001b[0m\u001b[0mmorphology\u001b[0m\u001b[0;34m\u001b[0m\u001b[0;34m\u001b[0m\u001b[0m\n\u001b[1;32m     13\u001b[0m \u001b[0;34m\u001b[0m\u001b[0m\n",
            "\u001b[0;32mfill_voids.pyx\u001b[0m in \u001b[0;36minit fill_voids\u001b[0;34m()\u001b[0m\n",
            "\u001b[0;32mfastremap.pyx\u001b[0m in \u001b[0;36minit fastremap\u001b[0;34m()\u001b[0m\n",
            "\u001b[0;31mValueError\u001b[0m: numpy.ndarray size changed, may indicate binary incompatibility. Expected 88 from C header, got 80 from PyObject"
          ]
        }
      ]
    },
    {
      "cell_type": "code",
      "metadata": {
        "id": "JntfauXuh0uH",
        "colab": {
          "base_uri": "https://localhost:8080/"
        },
        "outputId": "dc996feb-a633-47c1-8359-413ebd2f94d8"
      },
      "source": [
        "#구글 드라이브를 쓰자\n",
        "from google.colab import drive\n",
        "#루트를 정해준다.\n",
        "ROOT = \"/content/drive\"\n",
        "print(ROOT)\n",
        "\n",
        "drive.mount(ROOT) #we mount the google drive at /content/drive\n",
        "\n",
        "#import join used to join ROOT path and MY_GOOGLE_DRIVE_PATH\n",
        "from os.path import join\n",
        "\n",
        "\n",
        "MY_GOOGLE_DRIVE_PATH = '/content/drive/My Drive/Colab Notebooks'\n",
        "\n",
        "print(\"MY_GOOGLE_DRIVE_PATH: \", MY_GOOGLE_DRIVE_PATH)\n",
        "\n",
        "%cd \"{MY_GOOGLE_DRIVE_PATH}\"\n"
      ],
      "execution_count": null,
      "outputs": [
        {
          "output_type": "stream",
          "text": [
            "/content/drive\n",
            "Mounted at /content/drive\n",
            "MY_GOOGLE_DRIVE_PATH:  /content/drive/My Drive/Colab Notebooks\n",
            "/content/drive/My Drive/Colab Notebooks\n"
          ],
          "name": "stdout"
        }
      ]
    },
    {
      "cell_type": "code",
      "metadata": {
        "id": "TlQoXZXAiDdN"
      },
      "source": [
        "def preprocessing(image_name_raw):\n",
        "  #nii파일을 nibabel으로 불러온다.\n",
        "  raw_image = nib.load(image_name_raw)\n",
        "  \n",
        "  #get_fdata 다른 헤더정보도 가져온다.(여러정보)\n",
        "  raw_array = np.array(raw_image.get_fdata(), dtype=np.float32)\n",
        "\n",
        "  image = raw_array.T\n",
        "  # image[image == -2048] = 2048\n",
        "  #image[image > -815] = 2048\n",
        "  #image[image <= -815] = 2048\n",
        "  # image[image != 2048] = -2048\n",
        "  #print(image[27][300])\n",
        "  plt.imshow(image[27], cmap = 'gray')\n",
        "  return image"
      ],
      "execution_count": null,
      "outputs": []
    },
    {
      "cell_type": "code",
      "metadata": {
        "id": "HWuJEW8miHER"
      },
      "source": [
        "#다운 샘플링을 가지고 원본이미지에 가깝게 만들어준다.\n",
        "def get_lr(image) :\n",
        "  #1/3만큼 크기로 만든다..\n",
        "  downscaled_lr = zoom(image, 1/3.0, order = 2, prefilter= False)\n",
        "\n",
        "  #3만큼 올린다.\n",
        "  lr = np.clip(zoom(downscaled_lr, 3, order = 2, prefilter=False), 0, image.max())\n",
        "  return lr\n"
      ],
      "execution_count": null,
      "outputs": []
    },
    {
      "cell_type": "code",
      "metadata": {
        "id": "GwhwMYcrh1V_"
      },
      "source": [
        "#dataset 클래스 정리\n",
        "class BrainDataset(DataLoader):\n",
        "  def __init__(self):\n",
        "    #이미지를 불러와서 데이터 셋으로 만들겠다.\n",
        "    self.dataset_dir = os.path.join(MY_GOOGLE_DRIVE_PATH, 'srcnn', 'CT','preprocessing')\n",
        "    \n",
        "    #list 로 만듬\n",
        "    self.files_list = os.listdir(self.dataset_dir)\n",
        "\n",
        "    #메모리에 lr과 hr 저장해오는것을 가져오기 위한 변수들.\n",
        "    self.image_hr_list = []\n",
        "    self.image_lr_list = []\n",
        "    \n",
        "#   for file_name in tqdm(self.files_list):\n",
        "    for file_name in self.files_list:\n",
        "      print(file_name)\n",
        "\n",
        "      #데이터 셋에 있는 file_name을 가져온다\n",
        "      image_name_raw = os.path.join(self.dataset_dir, file_name)\n",
        "      # print(image_name_raw)\n",
        "\n",
        "      #전처리\n",
        "      image = preprocessing(image_name_raw)\n",
        "      H, W, D = image.shape\n",
        "\n",
        "      \n",
        "      input_image = image[27]\n",
        "      segmentation = mask.apply(input_image)  # default model is U-net(R231)\n",
        "      \n",
        "      model = lungmask.mask.get_model('unet', 'LTRCLobes')\n",
        "      segmentation = lungmask.mask.apply(input_image, model)\n",
        "      \n",
        "      plt.imshow(segmentation[27])\n",
        "      \n",
        "\n",
        "      for i in range(H):\n",
        "        #까만 이미지만 아니면 통과\n",
        "        if np.any(image[i]):\n",
        "          lr = get_lr(image[i])\n",
        "\n",
        "          #배치 사이즈를 제일 앞에 두고 그다음 채널수를 앞에 두는데\n",
        "          #채널이 중간에 엄청 많으니 새로 만드는 작업을 한다.\n",
        "          self.image_hr_list.append(image[i,np.newaxis, :, :])\n",
        "          self.image_lr_list.append(lr[np.newaxis, :, :])\n",
        "\n",
        "  def __getitem__(self, index): #몇번째 데이터를 리턴해라이다.\n",
        "    return self.image_lr_list[index], self.image_hr_list[index]\n",
        "  def __len__(self): #몇번째 index가 있느냐\n",
        "    return len(self.image_hr_list)"
      ],
      "execution_count": null,
      "outputs": []
    },
    {
      "cell_type": "code",
      "metadata": {
        "colab": {
          "base_uri": "https://localhost:8080/",
          "height": 552
        },
        "id": "FXv-YK5zpOjA",
        "outputId": "7125238e-eb52-4627-ad53-b94e99f1f5d2"
      },
      "source": [
        "testData = BrainDataset()"
      ],
      "execution_count": null,
      "outputs": [
        {
          "output_type": "stream",
          "text": [
            "study_0234.nii.gz\n"
          ],
          "name": "stdout"
        },
        {
          "output_type": "error",
          "ename": "NameError",
          "evalue": "ignored",
          "traceback": [
            "\u001b[0;31m---------------------------------------------------------------------------\u001b[0m",
            "\u001b[0;31mNameError\u001b[0m                                 Traceback (most recent call last)",
            "\u001b[0;32m<ipython-input-57-2bb4753b25c7>\u001b[0m in \u001b[0;36m<module>\u001b[0;34m()\u001b[0m\n\u001b[0;32m----> 1\u001b[0;31m \u001b[0mtestData\u001b[0m \u001b[0;34m=\u001b[0m \u001b[0mBrainDataset\u001b[0m\u001b[0;34m(\u001b[0m\u001b[0;34m)\u001b[0m\u001b[0;34m\u001b[0m\u001b[0;34m\u001b[0m\u001b[0m\n\u001b[0m",
            "\u001b[0;32m<ipython-input-56-b6cc13787305>\u001b[0m in \u001b[0;36m__init__\u001b[0;34m(self)\u001b[0m\n\u001b[1;32m     26\u001b[0m \u001b[0;34m\u001b[0m\u001b[0m\n\u001b[1;32m     27\u001b[0m       \u001b[0minput_image\u001b[0m \u001b[0;34m=\u001b[0m \u001b[0mimage\u001b[0m\u001b[0;34m[\u001b[0m\u001b[0;36m27\u001b[0m\u001b[0;34m]\u001b[0m\u001b[0;34m\u001b[0m\u001b[0;34m\u001b[0m\u001b[0m\n\u001b[0;32m---> 28\u001b[0;31m       \u001b[0msegmentation\u001b[0m \u001b[0;34m=\u001b[0m \u001b[0mmask\u001b[0m\u001b[0;34m.\u001b[0m\u001b[0mapply\u001b[0m\u001b[0;34m(\u001b[0m\u001b[0minput_image\u001b[0m\u001b[0;34m)\u001b[0m  \u001b[0;31m# default model is U-net(R231)\u001b[0m\u001b[0;34m\u001b[0m\u001b[0;34m\u001b[0m\u001b[0m\n\u001b[0m\u001b[1;32m     29\u001b[0m \u001b[0;34m\u001b[0m\u001b[0m\n\u001b[1;32m     30\u001b[0m       \u001b[0mmodel\u001b[0m \u001b[0;34m=\u001b[0m \u001b[0mlungmask\u001b[0m\u001b[0;34m.\u001b[0m\u001b[0mmask\u001b[0m\u001b[0;34m.\u001b[0m\u001b[0mget_model\u001b[0m\u001b[0;34m(\u001b[0m\u001b[0;34m'unet'\u001b[0m\u001b[0;34m,\u001b[0m \u001b[0;34m'LTRCLobes'\u001b[0m\u001b[0;34m)\u001b[0m\u001b[0;34m\u001b[0m\u001b[0;34m\u001b[0m\u001b[0m\n",
            "\u001b[0;31mNameError\u001b[0m: name 'mask' is not defined"
          ]
        },
        {
          "output_type": "display_data",
          "data": {
            "image/png": "[encoded data removed]",
            "text/plain": [
              "<Figure size 432x288 with 1 Axes>"
            ]
          },
          "metadata": {
            "tags": [],
            "needs_background": "light"
          }
        }
      ]
    },
    {
      "cell_type": "code",
      "metadata": {
        "id": "pVmKXw3RsMhv"
      },
      "source": [
        ""
      ],
      "execution_count": null,
      "outputs": []
    }
  ]
}